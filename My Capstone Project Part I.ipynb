{
 "cells": [
  {
   "cell_type": "markdown",
   "metadata": {},
   "source": [
    "# **Sustainable Venues in London**\n",
    "\n",
    "\n",
    "### **Introduction**\n",
    "\n",
    "It has been more common for residents, workers and tourists in London to seek out supermarkets, cafes and restaurants that have sustainable and ethical offerings and practices. This has only become more prevalent on the turn of the decade with CoViD-19 highlighting the benefits of an environmentally friendly economy. This study aims to identify the density and clusters of venues with sustainable and ethical goods and services on offer. The study will leverage the Foursquare database of venues around London and users comments. Using K-means clustering I clustered venues on the basis of the venues that Foursquare users believe have a sustainable or ethical offering.\n",
    "\n",
    "### **Business Problem**\n",
    "\n",
    "There is currently no easy way to identify Ethical or Sustainable venues in London, which for many is a topic of high priority. The study aims to help those who live, work and travel to London to identify the best areas in London to find sustainable and ethical businesses. This will be shown by showing the clusters of venues in London that have a sustainability attributed to them by Foursquare users.\n",
    "\n",
    "### **Data**\n",
    "\n",
    "#### **Data Sources**\n",
    "\n",
    "* Foursquare Location Data - Restaurants, Cafes, Shops and Supermarkets in London\n",
    "* Foursquare User Comments information  - Comments from Foursquare users that highlight the keywords \"sustainable\" or \"ethical\"\n",
    "\n",
    "#### **Extraction Methods**\n",
    "\n",
    "I will get the geographical coordinates of the venues from the Foursquare API. These will be calculated as being in proximity to the Coordinates of Central London (51.5074,-0.1278). Foursquare API has one of the largest location databases with 105+ million places and is used by over 125,000 developers both private and commercial.\n",
    "\n",
    "I will be able to identify venues with a \"sustainable\" or \"ethical\" tag by using the comments made by users on the services and products offered in these venues. \n",
    "\n",
    "This study will utilise a number of data science techniques including data cleaning, data wrangling, K-means clustering and map visualisation.\n"
   ]
  },
  {
   "cell_type": "markdown",
   "metadata": {},
   "source": [
    "#### **Example Code**"
   ]
  },
  {
   "cell_type": "code",
   "execution_count": 4,
   "metadata": {},
   "outputs": [],
   "source": [
    "import json, requests\n",
    "url = 'https://api.foursquare.com/v2/venues/explore'\n",
    "\n",
    "params = dict(\n",
    "client_id='QKHGQ4BJMPYGBPOLQ0GOF2FAGFNGYMISRS4ELCM4ITYWQSJO',\n",
    "client_secret='44QQXDSPM2IKXWMXQ5PGUK3D1ICKTFXGZQH2X4RSYDUHMFQO',\n",
    "v='20180323',\n",
    "ll='51.5074,-0.1278',\n",
    "query='sustainable'\n",
    ")\n",
    "resp = requests.get(url=url, params=params)\n",
    "data = json.loads(resp.text)\n",
    "\n"
   ]
  }
 ],
 "metadata": {
  "kernelspec": {
   "display_name": "Python",
   "language": "python",
   "name": "conda-env-python-py"
  },
  "language_info": {
   "codemirror_mode": {
    "name": "ipython",
    "version": 3
   },
   "file_extension": ".py",
   "mimetype": "text/x-python",
   "name": "python",
   "nbconvert_exporter": "python",
   "pygments_lexer": "ipython3",
   "version": "3.6.10"
  }
 },
 "nbformat": 4,
 "nbformat_minor": 4
}
